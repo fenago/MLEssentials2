{
 "cells": [
  {
   "cell_type": "code",
   "execution_count": null,
   "metadata": {},
   "outputs": [],
   "source": [
    "!pip install nltk"
   ]
  },
  {
   "cell_type": "code",
   "execution_count": null,
   "metadata": {},
   "outputs": [],
   "source": [
    "import os\n",
    "import matplotlib.pyplot as plt\n",
    "from bs4 import BeautifulSoup\n",
    "import pandas as pd\n",
    "from urllib.request import urlopen, Request\n",
    "from nltk.sentiment.vader import SentimentIntensityAnalyzer"
   ]
  },
  {
   "cell_type": "code",
   "execution_count": null,
   "metadata": {},
   "outputs": [],
   "source": [
    "web_url = 'https://finviz.com/quote.ashx?t='\n",
    "\n",
    "news_tables = {}\n",
    "tickers = ['AMZN', 'GOOG', 'TSLA']\n",
    "\n",
    "for tick in tickers:\n",
    "    url = web_url + tick\n",
    "    req = Request(url=url,headers={\"User-Agent\": \"Chrome\"}) \n",
    "    response = urlopen(req)    \n",
    "    html = BeautifulSoup(response,\"html.parser\")\n",
    "    news_table = html.find(id='news-table')\n",
    "    news_tables[tick] = news_table"
   ]
  },
  {
   "cell_type": "code",
   "execution_count": null,
   "metadata": {},
   "outputs": [],
   "source": [
    "amazon = news_tables['TSLA']\n",
    "amazon_tr = amazon.findAll('tr')\n",
    "\n",
    "for x, table_row in enumerate(amazon_tr):\n",
    "    a_text = table_row.a.text\n",
    "    td_text = table_row.td.text\n",
    "    print(a_text)\n",
    "    print(td_text)\n",
    "    if x == 3:\n",
    "        break"
   ]
  },
  {
   "cell_type": "code",
   "execution_count": null,
   "metadata": {},
   "outputs": [],
   "source": [
    "news_list = []\n",
    "\n",
    "for file_name, news_table in news_tables.items():\n",
    "    for i in news_table.findAll('tr'):\n",
    "        \n",
    "        text = i.a.get_text() \n",
    "        \n",
    "        date_scrape = i.td.text.split()\n",
    "\n",
    "        if len(date_scrape) == 1:\n",
    "            time = date_scrape[0]\n",
    "            \n",
    "        else:\n",
    "            date = date_scrape[0]\n",
    "            time = date_scrape[1]\n",
    "\n",
    "        tick = file_name.split('_')[0]\n",
    "        \n",
    "        news_list.append([tick, date, time, text])"
   ]
  },
  {
   "cell_type": "code",
   "execution_count": null,
   "metadata": {},
   "outputs": [],
   "source": [
    "import nltk\n",
    "nltk.download('vader_lexicon')"
   ]
  },
  {
   "cell_type": "code",
   "execution_count": null,
   "metadata": {},
   "outputs": [],
   "source": [
    "vader = SentimentIntensityAnalyzer()\n",
    "\n",
    "columns = ['ticker', 'date', 'time', 'headline']\n",
    "\n",
    "news_df = pd.DataFrame(news_list, columns=columns)\n",
    "\n",
    "scores = news_df['headline'].apply(vader.polarity_scores).tolist()\n",
    "\n",
    "scores_df = pd.DataFrame(scores)\n",
    "\n",
    "news_df = news_df.join(scores_df, rsuffix='_right')\n",
    "\n",
    "news_df['date'] = pd.to_datetime(news_df.date).dt.date\n",
    "\n",
    "print(news_df.head())"
   ]
  },
  {
   "cell_type": "code",
   "execution_count": null,
   "metadata": {},
   "outputs": [],
   "source": [
    "plt.rcParams['figure.figsize'] = [10, 6]\n",
    "\n",
    "mean_scores = news_df.groupby(['ticker','date']).mean()\n",
    "\n",
    "mean_scores = mean_scores.unstack()\n",
    "\n",
    "mean_scores = mean_scores.xs('compound', axis=\"columns\").transpose()\n",
    "\n",
    "mean_scores.plot(kind = 'bar')\n",
    "\n",
    "plt.grid()\n",
    "\n",
    "plt.show()"
   ]
  },
  {
   "cell_type": "code",
   "execution_count": null,
   "metadata": {},
   "outputs": [],
   "source": []
  }
 ],
 "metadata": {
  "kernelspec": {
   "display_name": "Python 3",
   "language": "python",
   "name": "python3"
  },
  "language_info": {
   "codemirror_mode": {
    "name": "ipython",
    "version": 3
   },
   "file_extension": ".py",
   "mimetype": "text/x-python",
   "name": "python",
   "nbconvert_exporter": "python",
   "pygments_lexer": "ipython3",
   "version": "3.8.6"
  }
 },
 "nbformat": 4,
 "nbformat_minor": 4
}
