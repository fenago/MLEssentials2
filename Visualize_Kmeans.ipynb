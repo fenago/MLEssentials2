{
 "cells": [
  {
   "cell_type": "code",
   "execution_count": null,
   "metadata": {},
   "outputs": [],
   "source": [
    "!pip install altair"
   ]
  },
  {
   "cell_type": "code",
   "execution_count": null,
   "metadata": {},
   "outputs": [],
   "source": [
    "#@title Importing modules\n",
    "import pandas as pd\n",
    "import numpy as np"
   ]
  },
  {
   "cell_type": "code",
   "execution_count": null,
   "metadata": {},
   "outputs": [],
   "source": [
    "#@title Data_url\n",
    "file_url = 'https://raw.githubusercontent.com/fenago/DSBook/main/Chapter%205/Mall_Customers.csv'"
   ]
  },
  {
   "cell_type": "code",
   "execution_count": null,
   "metadata": {},
   "outputs": [],
   "source": [
    "#@title Loading data\n",
    "data = pd.read_csv(file_url, \\\n",
    "                 usecols=['Age', \\\n",
    "                          'Annual Income (k$)', \\\n",
    "'Spending Score (1-100)'])"
   ]
  },
  {
   "cell_type": "code",
   "execution_count": null,
   "metadata": {},
   "outputs": [],
   "source": [
    "#@title Extracting the columns\n",
    "X = data[['Age', \\\n",
    "        'Annual Income (k$)']]"
   ]
  },
  {
   "cell_type": "code",
   "execution_count": null,
   "metadata": {},
   "outputs": [],
   "source": [
    "#@title fitting  kmeans with this new variable using randomstate = 8\n",
    "from sklearn.cluster import KMeans\n",
    "kmeans = KMeans(random_state=8)\n",
    "kmeans.fit(X)"
   ]
  },
  {
   "cell_type": "code",
   "execution_count": null,
   "metadata": {},
   "outputs": [],
   "source": [
    "#@title Using the predict method from the sklearn package, predict the clustering assignment from the input variable, (X)\n",
    "y_preds = kmeans.predict(X)\n",
    "y_preds[-10:]"
   ]
  },
  {
   "cell_type": "code",
   "execution_count": null,
   "metadata": {},
   "outputs": [],
   "source": [
    "#@title Save the predicted clusters back to the DataFrame by creating a new column called 'cluster\n",
    "data['cluster'] = y_preds\n",
    "data.tail(10)"
   ]
  },
  {
   "cell_type": "code",
   "execution_count": null,
   "metadata": {},
   "outputs": [],
   "source": [
    "#@title Generate a pivot table with the averages of the two columns for each cluster value using the pivot_table method from the pandas package\n",
    "data.pivot_table(values=['Age', \\\n",
    "                       'Annual Income (k$)'], \\\n",
    "               index='cluster', aggfunc=np.mean)"
   ]
  },
  {
   "cell_type": "code",
   "execution_count": null,
   "metadata": {},
   "outputs": [],
   "source": [
    "#@title  plotting the clusters using an interactive scatter plot\n",
    "import altair as alt\n",
    "scatter_plot = alt.Chart(data).mark_circle()"
   ]
  },
  {
   "cell_type": "code",
   "execution_count": null,
   "metadata": {},
   "outputs": [],
   "source": [
    "#@title Use the encode and interactive methods from altair to specify the display of the scatter plot and its interactivity\n",
    "scatter_plot.encode(x='Age', \\\n",
    "                    y='Annual Income (k$)', \\\n",
    "                    color='cluster:N', tooltip = ['Spending Score (1-100)', \\\n",
    "                                                  'cluster', \\\n",
    "                    'Age', \\\n",
    "                    'Annual Income (k$)'])\\\n",
    "                    .interactive()"
   ]
  },
  {
   "cell_type": "code",
   "execution_count": null,
   "metadata": {},
   "outputs": [],
   "source": []
  }
 ],
 "metadata": {
  "kernelspec": {
   "display_name": "Python 3",
   "language": "python",
   "name": "python3"
  },
  "language_info": {
   "codemirror_mode": {
    "name": "ipython",
    "version": 3
   },
   "file_extension": ".py",
   "mimetype": "text/x-python",
   "name": "python",
   "nbconvert_exporter": "python",
   "pygments_lexer": "ipython3",
   "version": "3.8.6"
  }
 },
 "nbformat": 4,
 "nbformat_minor": 4
}
